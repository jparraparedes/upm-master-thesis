{
 "cells": [
  {
   "cell_type": "markdown",
   "id": "4149d038",
   "metadata": {},
   "source": [
    "<a id=\"top\"></a>\n",
    "#### QCT. Master Thesis - Quantum Computing in Electronics Design\n",
    "\n",
    "# Quantum Annealing - Linear Equation System Solver\n",
    "\n",
    "#### Author:\n",
    "- Javier Parra Paredes, javier.pparedes@alumnos.upm.es\n",
    "\n",
    "#### Advisor:\n",
    "- Rafael Martín-Cuevas Redondo, rafamartinc@pm.me\n",
    "\n",
    "***\n",
    "\n",
    "In this notebook, we will explore how to solve the unknown variables of a circuit used as a simple example and find its solution using the solvers provided by D-Wave Systems (SimulatedAnnealingSampler from neal package)\n",
    "\n",
    "### Table of Contents\n",
    "\n",
    "1. [Shaping the QUBO Model](#qubo_model)\n",
    "2. [Results](#results)\n",
    "2. [Finding the solution with D-Wave's solvers](#solution_dwave)\n",
    "3. [D-Wave´s result postprocessing](#postprocess_dwave)\n",
    "\n",
    "***\n",
    "\n",
    "Please run the following block to import the libraries that will be required during the execution of this notebook. If your system lacks any of the libraries mentioned, use ```pip install -r requirements.txt``` in a command line, within this notebook's folder, to ensure that all required libraries are installed."
   ]
  },
  {
   "cell_type": "code",
   "execution_count": 1,
   "id": "d05a8039",
   "metadata": {},
   "outputs": [],
   "source": [
    "from sympy import Symbol,symbols, Integer, Pow, symbols, expand\n",
    "from matplotlib import pyplot\n",
    "import numpy as np\n",
    "import random, math\n",
    "import copy\n",
    "from qubo_formulation import qubo_formulation \n",
    "from modified_nodal_analysis.mna_matrix_generator import MnaMatrixGenerator\n",
    "\n",
    "from dwave.samplers import SimulatedAnnealingSampler"
   ]
  },
  {
   "attachments": {},
   "cell_type": "markdown",
   "id": "97172a89",
   "metadata": {},
   "source": [
    "[Back to the top](#top)\n",
    "\n",
    "***\n",
    "<a id=\"qubo\"></a>\n",
    "\n",
    "## 1. Shaping the QUBO Model\n",
    "\n",
    "The QUBO formulation of the problem is based on the following papers:\n",
    "\n",
    "#### Reference : QUBO formulations for numerical quantum computing. \n",
    "* Author: Kyungtaek Juna,\n",
    "* Research Center, Innovative Quantum Computed Tomography, Seoul, Republic of Korea\n",
    "* ktfriends@gmail.com\n",
    "* https://arxiv.org/abs/2106.10819\n",
    "\n",
    "#### Reference : Analyzing the Quantum Annealing Approach for Solving Linear Least Squares Problems\n",
    "* Authors: Ajinkya Borle and Samuel J. Lomonaco\n",
    "* CSEE Department,University of Maryland Baltimore County, Baltimore MD 21250\n",
    "* aborle1@umbc.edu, lomonaco@umbc.edu\n",
    "* https://arxiv.org/abs/1809.07649\n",
    "\n",
    "#### Reference : Symbolic modified nodal analysis\n",
    "* https://github.com/Tiburonboy/Symbolic-modified-nodal-analysis"
   ]
  },
  {
   "cell_type": "markdown",
   "id": "35047c96",
   "metadata": {},
   "source": [
    "[Back to the top](#top)\n",
    "\n",
    "***\n",
    "<a id=\"results\"></a>\n",
    "\n",
    "## 2. Results\n",
    "\n",
    "There are two approaches, depending on how the variable is built in QUBO model: \n",
    "* Approach #1: Same number of qubits for positive and negative values: $x_{i} \\approx \\sum_{l=-m}^{m} 2^{l}q_{i,l}^{+} - \\sum_{l=-m}^{m} 2^{l}q_{i,l}^{-}$\n",
    "* Approach #2: In order to save qubits, one qubit for the sign of the variable (using 2-complement) and the rest for positive values : $x_{i} \\approx -2^{m+1}q_{i}^{-} + \\sum_{l=-m}^{m} 2^{l}q_{i,l}^{+}$\n",
    "\n",
    "With both options, fractional numbers can be obtained (l starting at -m)\n",
    "\n",
    "Below the code has been implemented to have as parameters: \n",
    "* the dimension of the linear equation system (in the case of Example 1 and 2, the dimension is 3) \n",
    "* the number of qubits used for the integer part and \n",
    "* the number of qubits used for the fractional part. \n",
    "\n",
    "The values chosen in circuit 1 and 2 are below 4 and above -4 and as first approach, only 2 qubits have been chosen for the integer and 2 for fractional part. The results can be extended to higher values, increasing the number of qubits in integer part or increase the precision, increasing the number of qubits of the fractional part.\n",
    "\n",
    "* Approach #1 requires 2 * (qubits for integer + qubits for fractional), for each variable\n",
    "* Approach #2 requires qubits for integer + qubits for fractional + 1 qubit for the sign, for each variable"
   ]
  },
  {
   "cell_type": "markdown",
   "id": "ecd95d8e",
   "metadata": {},
   "source": [
    "[Back to the top](#top)\n",
    "\n",
    "***\n",
    "<a id=\"qubo_matrix_approach_1_circuit_1\"></a>\n",
    "\n",
    "### 2.1 Approach 1, circuit 1 - Qubo Matrix\n"
   ]
  },
  {
   "cell_type": "code",
   "execution_count": 2,
   "id": "e595853a-fdd8-4377-96bd-bce427d0592e",
   "metadata": {},
   "outputs": [
    {
     "name": "stdout",
     "output_type": "stream",
     "text": [
      "[0, 0, V1]\n",
      "[v1, v2, I_V1]\n",
      "Matrix([[1/R1, -1/R1, 1], [-1/R1, 1/R2 + 1/R1, 0], [1, 0, 0]])\n",
      "  element p node n node cp node cn node Vout value Vname Lname1 Lname2\n",
      "0      V1      1      0     NaN     NaN  NaN   3.0   NaN    NaN    NaN\n",
      "1      R1      2      1     NaN     NaN  NaN   1.0   NaN    NaN    NaN\n",
      "2      R2      0      2     NaN     NaN  NaN   0.5   NaN    NaN    NaN\n",
      "{V1: 3.0, R1: 1.0, R2: 0.5}\n"
     ]
    }
   ],
   "source": [
    "test_circuit = 'test_circuits\\\\test_circuit_1\\\\test_circuit_1.net'\n",
    "\n",
    "mna_matrix_gen = MnaMatrixGenerator()\n",
    "z_matrix, x_matrix, a_matrix, df, symbol_value_dict = mna_matrix_gen.get_a_b_x_matrix(netlist_filename=test_circuit)\n",
    "\n",
    "print(z_matrix)\n",
    "print(x_matrix)\n",
    "print(a_matrix)\n",
    "print(df)\n",
    "print(symbol_value_dict)"
   ]
  },
  {
   "cell_type": "code",
   "execution_count": 3,
   "id": "31c618f8",
   "metadata": {},
   "outputs": [
    {
     "name": "stdout",
     "output_type": "stream",
     "text": [
      "[[1.00000000000000 -1.00000000000000 1]\n",
      " [-1.00000000000000 3.00000000000000 0]\n",
      " [1 0 0]]\n",
      "[0, 0, 3.00000000000000]\n",
      "# Matrix Q is\n",
      "[[ -3.  12.   0.   0.  -8. -16.   8.  16.   2.   4.  -2.  -4.]\n",
      " [  0.   0.   0.   0. -16. -32.  16.  32.   4.   8.  -4.  -8.]\n",
      " [  0.   0.   9.  12.   8.  16.  -8. -16.  -2.  -4.   2.   4.]\n",
      " [  0.   0.   0.  24.  16.  32. -16. -32.  -4.  -8.   4.   8.]\n",
      " [  0.   0.   0.   0.  10.  40.   0.   0.  -2.  -4.   2.   4.]\n",
      " [  0.   0.   0.   0.   0.  40.   0.   0.  -4.  -8.   4.   8.]\n",
      " [  0.   0.   0.   0.   0.   0.  10.  40.   2.   4.  -2.  -4.]\n",
      " [  0.   0.   0.   0.   0.   0.   0.  40.   4.   8.  -4.  -8.]\n",
      " [  0.   0.   0.   0.   0.   0.   0.   0.   1.   4.   0.   0.]\n",
      " [  0.   0.   0.   0.   0.   0.   0.   0.   0.   4.   0.   0.]\n",
      " [  0.   0.   0.   0.   0.   0.   0.   0.   0.   0.   1.   4.]\n",
      " [  0.   0.   0.   0.   0.   0.   0.   0.   0.   0.   0.   4.]]\n"
     ]
    }
   ],
   "source": [
    "dimension_approach_1_circuit_1 = len(z_matrix)\n",
    "qubits_int_approach_1_circuit_1 = 2\n",
    "qubits_dec_approach_1_circuit_1 = 0\n",
    "A_approach_1_circuit_1 = np.asarray(a_matrix.subs(symbol_value_dict))\n",
    "print(A_approach_1_circuit_1)\n",
    "b_approach_1_circuit_1 = [expr.subs(symbol_value_dict) for expr in z_matrix]\n",
    "print(b_approach_1_circuit_1)\n",
    "\n",
    "QM_approach_1_circuit_1 = qubo_formulation.get_qubo_matrix_approach_1(dimension=dimension_approach_1_circuit_1, \n",
    "                                                     qubits_int=qubits_int_approach_1_circuit_1, \n",
    "                                                     qubits_dec=qubits_dec_approach_1_circuit_1, \n",
    "                                                     A=A_approach_1_circuit_1, \n",
    "                                                     b=b_approach_1_circuit_1)"
   ]
  },
  {
   "cell_type": "code",
   "execution_count": 4,
   "id": "fc451526-ea70-4da0-893c-edb4ef1ddf06",
   "metadata": {},
   "outputs": [
    {
     "name": "stdout",
     "output_type": "stream",
     "text": [
      "[[1.00000000000000 -1.00000000000000 1]\n",
      " [-1.00000000000000 3.00000000000000 0]\n",
      " [1 0 0]]\n",
      "[0, 0, 3.00000000000000]\n",
      "{v1: ['q1', 'q2', 'q3', 'q4'], v2: ['q5', 'q6', 'q7', 'q8'], I_V1: ['q9', 'q10', 'q11', 'q12']}\n",
      "# Matrix Q is\n",
      "[[ -3.  12.   0.   0.  -8. -16.   8.  16.   2.   4.  -2.  -4.]\n",
      " [  0.   0.   0.   0. -16. -32.  16.  32.   4.   8.  -4.  -8.]\n",
      " [  0.   0.   9.  12.   8.  16.  -8. -16.  -2.  -4.   2.   4.]\n",
      " [  0.   0.   0.  24.  16.  32. -16. -32.  -4.  -8.   4.   8.]\n",
      " [  0.   0.   0.   0.  10.  40.   0.   0.  -2.  -4.   2.   4.]\n",
      " [  0.   0.   0.   0.   0.  40.   0.   0.  -4.  -8.   4.   8.]\n",
      " [  0.   0.   0.   0.   0.   0.  10.  40.   2.   4.  -2.  -4.]\n",
      " [  0.   0.   0.   0.   0.   0.   0.  40.   4.   8.  -4.  -8.]\n",
      " [  0.   0.   0.   0.   0.   0.   0.   0.   1.   4.   0.   0.]\n",
      " [  0.   0.   0.   0.   0.   0.   0.   0.   0.   4.   0.   0.]\n",
      " [  0.   0.   0.   0.   0.   0.   0.   0.   0.   0.   1.   4.]\n",
      " [  0.   0.   0.   0.   0.   0.   0.   0.   0.   0.   0.   4.]]\n"
     ]
    }
   ],
   "source": [
    "dimension_approach_1_circuit_1 = len(z_matrix)\n",
    "\n",
    "num_qubits_dict = {\n",
    "                    x_matrix[0] : {\"INTEGER\" : 2, \"FRACTIONAL\" : 0},\n",
    "                    x_matrix[1] : {\"INTEGER\" : 2, \"FRACTIONAL\" : 0},\n",
    "                    x_matrix[2] : {\"INTEGER\" : 2, \"FRACTIONAL\" : 0}\n",
    "                    }\n",
    "\n",
    "A_approach_1_circuit_1 = np.asarray(a_matrix.subs(symbol_value_dict))\n",
    "print(A_approach_1_circuit_1)\n",
    "b_approach_1_circuit_1 = [expr.subs(symbol_value_dict) for expr in z_matrix]\n",
    "print(b_approach_1_circuit_1)\n",
    "\n",
    "print(qubo_formulation.get_qubits_per_variable(list_of_variables=x_matrix, method=qubo_formulation.Method.METHOD_WITHOUT_SIGN, num_qubits_dict=num_qubits_dict))\n",
    "\n",
    "QM_approach_1_circuit_1 = qubo_formulation.get_qubo_matrix_approach_1_optimized_num_qubits(list_of_variables=x_matrix, \n",
    "                                                     num_qubits_dict=num_qubits_dict,\n",
    "                                                     A_matrix=A_approach_1_circuit_1, \n",
    "                                                     b_matrix=b_approach_1_circuit_1)"
   ]
  },
  {
   "cell_type": "markdown",
   "id": "827d6996",
   "metadata": {},
   "source": [
    "[Back to the top](#top)\n",
    "\n",
    "***\n",
    "<a id=\"qubo_matrix_approach_1_circuit_2\"></a>\n",
    "\n",
    "### 2.3 Approach 1, circuit 2- Qubo Matrix\n"
   ]
  },
  {
   "cell_type": "code",
   "execution_count": null,
   "id": "e0ea295f-5cdc-4bf8-953b-88d1eaa884e3",
   "metadata": {},
   "outputs": [],
   "source": [
    "test_circuit = 'test_circuits\\\\test_circuit_2\\\\netlist_test_circuit_2.net'\n",
    "\n",
    "mna_matrix_gen = MnaMatrixGenerator()\n",
    "z_matrix, x_matrix, a_matrix, df, symbol_value_dict = mna_matrix_gen.get_a_b_x_matrix(netlist_filename=test_circuit)\n",
    "\n",
    "print(z_matrix)\n",
    "print(x_matrix)\n",
    "print(a_matrix)\n",
    "print(df)\n",
    "print(symbol_value_dict)"
   ]
  },
  {
   "cell_type": "code",
   "execution_count": null,
   "id": "4db9e083",
   "metadata": {},
   "outputs": [],
   "source": [
    "dimension_approach_1_circuit_2 = len(z_matrix)\n",
    "qubits_int_approach_1_circuit_2 = 2\n",
    "qubits_dec_approach_1_circuit_2 = 2\n",
    "\n",
    "A_approach_1_circuit_2 = np.asarray(a_matrix.subs(symbol_value_dict))\n",
    "print(A_approach_1_circuit_2)\n",
    "b_approach_1_circuit_2 = [expr.subs(symbol_value_dict) for expr in z_matrix]\n",
    "print(b_approach_1_circuit_2)\n",
    "\n",
    "QM_approach_1_circuit_2 = qubo_formulation.get_qubo_matrix_approach_1(dimension=dimension_approach_1_circuit_2, \n",
    "                                                     qubits_int=qubits_int_approach_1_circuit_2, \n",
    "                                                     qubits_dec=qubits_dec_approach_1_circuit_2, \n",
    "                                                     A=A_approach_1_circuit_2, \n",
    "                                                     b=b_approach_1_circuit_2)"
   ]
  },
  {
   "cell_type": "code",
   "execution_count": null,
   "id": "7bc748e2-aeb8-4720-9dcb-b7dc632ff326",
   "metadata": {},
   "outputs": [],
   "source": [
    "dimension_approach_1_circuit_2 = len(z_matrix)\n",
    "\n",
    "num_qubits_dict = {\n",
    "                    x_matrix[0] : {\"INTEGER\" : 2, \"FRACTIONAL\" : 2},\n",
    "                    x_matrix[1] : {\"INTEGER\" : 2, \"FRACTIONAL\" : 2},\n",
    "                    x_matrix[2] : {\"INTEGER\" : 2, \"FRACTIONAL\" : 2}\n",
    "                    }\n",
    "\n",
    "A_approach_1_circuit_2 = np.asarray(a_matrix.subs(symbol_value_dict))\n",
    "print(A_approach_1_circuit_2)\n",
    "b_approach_1_circuit_2 = [expr.subs(symbol_value_dict) for expr in z_matrix]\n",
    "print(b_approach_1_circuit_2)\n",
    "\n",
    "QM_approach_1_circuit_2 = qubo_formulation.get_qubo_matrix_approach_1_optimized_num_qubits(list_of_variables=x_matrix, \n",
    "                                                     num_qubits_dict=num_qubits_dict,\n",
    "                                                     A_matrix=A_approach_1_circuit_2, \n",
    "                                                     b_matrix=b_approach_1_circuit_2)"
   ]
  },
  {
   "cell_type": "markdown",
   "id": "cb4373eb",
   "metadata": {},
   "source": [
    "[Back to the top](#top)\n",
    "\n",
    "***\n",
    "<a id=\"qubo_matrix_approach_2_circuit_1\"></a>\n",
    "\n",
    "### 2.4 Approach 2, circuit 1 - Qubo Matrix\n"
   ]
  },
  {
   "cell_type": "code",
   "execution_count": null,
   "id": "68690a3f",
   "metadata": {},
   "outputs": [],
   "source": [
    "dimension_approach_2_circuit_1 = 3\n",
    "qubits_int_approach_2_circuit_1 = 2\n",
    "qubits_dec_approach_2_circuit_1 = 0\n",
    "A_approach_2_circuit_1 = np.array([[1, -1, 1], [-1, 3, 0], [1, 0, 0]])\n",
    "b_approach_2_circuit_1 = np.array([0, 0, 3])\n",
    "\n",
    "QM_approach_2_circuit_1 = qubo_formulation.get_qubo_matrix_approach_2(dimension=dimension_approach_2_circuit_1, \n",
    "                                                     qubits_int=qubits_int_approach_2_circuit_1, \n",
    "                                                     qubits_dec=qubits_dec_approach_2_circuit_1, \n",
    "                                                     A=A_approach_2_circuit_1, \n",
    "                                                     b=b_approach_2_circuit_1)"
   ]
  },
  {
   "cell_type": "markdown",
   "id": "4bb18cba",
   "metadata": {},
   "source": [
    "[Back to the top](#top)\n",
    "\n",
    "***\n",
    "<a id=\"qubo_matrix_approach_2_circuit_2\"></a>\n",
    "\n",
    "### 2.5 Approach 2, circuit 2 - Qubo Matrix\n"
   ]
  },
  {
   "cell_type": "code",
   "execution_count": null,
   "id": "058f93b2",
   "metadata": {},
   "outputs": [],
   "source": [
    "dimension_approach_2_circuit_2 = 3\n",
    "qubits_int_approach_2_circuit_2 = 2\n",
    "qubits_dec_approach_2_circuit_2 = 2\n",
    "A_approach_2_circuit_2 = np.array([[1, -1, 1], [-1, 3, 0], [1, 0, 0]])\n",
    "b_approach_2_circuit_2 = np.array([0, 0, 1.5])\n",
    "\n",
    "QM_approach_2_circuit_2 = qubo_formulation.get_qubo_matrix_approach_2(dimension=dimension_approach_2_circuit_2, \n",
    "                                                     qubits_int=qubits_int_approach_2_circuit_2, \n",
    "                                                     qubits_dec=qubits_dec_approach_2_circuit_2, \n",
    "                                                     A=A_approach_2_circuit_2, \n",
    "                                                     b=b_approach_2_circuit_2)"
   ]
  },
  {
   "cell_type": "markdown",
   "id": "2910283b",
   "metadata": {},
   "source": [
    "[Back to the top](#top)\n",
    "\n",
    "***\n",
    "<a id=\"solution_dwave\"></a>\n",
    "\n",
    "## 3. Finding the solution with D-Wave's solvers\n",
    "\n",
    "From the Q Matrix, the qubo model can be implemented and solved by Dwave tools"
   ]
  },
  {
   "cell_type": "markdown",
   "id": "fbf4ae01",
   "metadata": {},
   "source": [
    "[Back to the top](#top)\n",
    "\n",
    "***\n",
    "<a id=\"dwave_solver_code\"></a>\n",
    "\n",
    "### 3.1 DWave Solver code, Approaches 1 and 2 (Simulator)\n"
   ]
  },
  {
   "cell_type": "code",
   "execution_count": 5,
   "id": "0e4bad6d",
   "metadata": {},
   "outputs": [],
   "source": [
    "# Print Python code for the run in D-Wave quantum processing unit\n",
    "\n",
    "def get_dwave_solution_approach_1(dimension, qubits_int, qubits_dec, QM):\n",
    "    \n",
    "    QM = 1000*QM # All coefficients of QM shall be integer\n",
    "\n",
    "    linear_dict = {}\n",
    "    for i in range(2*(qubits_int+qubits_dec)*dimension-1): \n",
    "        linear = i + 1\n",
    "        linear_dict[(\"q\"+ str(linear), \"q\"+str(linear))] = QM[i][i]\n",
    "\n",
    "    linear_dict[(\"q\"+ str(2*(qubits_int+qubits_dec)*dimension), \"q\"+str(2*(qubits_int+qubits_dec)*dimension))] = QM[2*(qubits_int+qubits_dec)*dimension-1][2*(qubits_int+qubits_dec)*dimension-1]  \n",
    "\n",
    "    # print(linear_dict)\n",
    "\n",
    "    quadratic_dict = {}\n",
    "\n",
    "    for i in range(2*(qubits_int+qubits_dec)*dimension-1):\n",
    "        for j in range(i+1,2*(qubits_int+qubits_dec)*dimension):\n",
    "            if QM[i][j] != 0:\n",
    "                qdrt1 = i + 1\n",
    "                qdrt2 = j + 1\n",
    "                quadratic_dict[(\"q\"+str(qdrt1), \"q\"+str(qdrt2))] = QM[i][j]\n",
    "\n",
    "\n",
    "    # print(quadratic_dict)\n",
    "\n",
    "    qubo = dict(linear_dict)\n",
    "    qubo.update(quadratic_dict)\n",
    "\n",
    "    # print(qubo)\n",
    "\n",
    "    sampler = SimulatedAnnealingSampler()\n",
    "    num_reads = 5000\n",
    "\n",
    "    response = sampler.sample_qubo(qubo, num_reads=num_reads)\n",
    "    response = response.aggregate()\n",
    "\n",
    "    print(response)\n",
    "\n",
    "    for values, _, num_occurrences in response.data():\n",
    "        variables = [key for key in values if values[key] != 0]\n",
    "        print('{:4.0f}/{} occurrences: {}'.format(\n",
    "            num_occurrences, num_reads, variables\n",
    "        ))\n",
    "\n",
    "    for values, _, num_occurrences in response.data():\n",
    "        print(values)\n",
    "    return response"
   ]
  },
  {
   "cell_type": "code",
   "execution_count": 6,
   "id": "db56692d",
   "metadata": {
    "scrolled": true
   },
   "outputs": [],
   "source": [
    "# Print Python code for the run in D-Wave quantum processing unit\n",
    "\n",
    "def get_dwave_solution_approach_2(dimension, qubits_int, qubits_dec, QM):\n",
    "\n",
    "    if qubits_dec > 0:\n",
    "        QM = 1000*QM # All coefficients of QM shall be integer\n",
    "\n",
    "    linear_dict = {}\n",
    "    for i in range((qubits_int+qubits_dec+1)*dimension-1): \n",
    "        linear = i + 1\n",
    "        linear_dict[(\"q\"+ str(linear), \"q\"+str(linear))] = QM[i][i]\n",
    "\n",
    "    linear_dict[(\"q\"+ str((qubits_int+qubits_dec + 1)*dimension), \"q\"+str((qubits_int+qubits_dec+1)*dimension))] = QM[(qubits_int+qubits_dec+1)*dimension-1][(qubits_int+qubits_dec+1)*dimension-1]  \n",
    "\n",
    "    # print(linear_dict)\n",
    "\n",
    "    quadratic_dict = {}\n",
    "\n",
    "    for i in range((qubits_int+qubits_dec+1)*dimension-1):\n",
    "        for j in range(i+1,(qubits_int+qubits_dec+1)*dimension):\n",
    "            if QM[i][j] != 0:\n",
    "                qdrt1 = i + 1\n",
    "                qdrt2 = j + 1\n",
    "                quadratic_dict[(\"q\"+str(qdrt1), \"q\"+str(qdrt2))] = QM[i][j]\n",
    "\n",
    "\n",
    "    # print(quadratic_dict)\n",
    "\n",
    "    qubo = dict(linear_dict)\n",
    "    qubo.update(quadratic_dict)\n",
    "\n",
    "    print(qubo)\n",
    "\n",
    "    sampler = SimulatedAnnealingSampler()\n",
    "    num_reads = 10000\n",
    "\n",
    "    response = sampler.sample_qubo(qubo, num_reads=num_reads)\n",
    "    response = response.aggregate()\n",
    "\n",
    "    print(response)\n",
    "\n",
    "    for values, _, num_occurrences in response.data():\n",
    "        variables = [key for key in values if values[key] != 0]\n",
    "        print('{:4.0f}/{} occurrences: {}'.format(\n",
    "            num_occurrences, num_reads, variables\n",
    "        ))\n",
    "\n",
    "    for values, _, num_occurrences in response.data():\n",
    "        print(values)\n",
    "        \n",
    "    return response"
   ]
  },
  {
   "cell_type": "markdown",
   "id": "3301de95",
   "metadata": {},
   "source": [
    "[Back to the top](#top)\n",
    "\n",
    "***\n",
    "<a id=\"qubo_matrix_approach_1_circuit_1\"></a>\n",
    "\n",
    "### 3.2 Approach 1, circuit 1 - DWave Solver (Simulator)\n"
   ]
  },
  {
   "cell_type": "code",
   "execution_count": 7,
   "id": "c52c43fb",
   "metadata": {},
   "outputs": [
    {
     "name": "stdout",
     "output_type": "stream",
     "text": [
      "  q1 q10 q11 q12 q2 q3 q4 q5 q6 q7 q8 q9  energy num_oc.\n",
      "0  1   0   0   1  1  0  0  1  0  0  0  0 -9000.0    4977\n",
      "1  1   0   1   1  1  0  0  1  0  0  0  0 -8000.0       8\n",
      "3  1   0   1   0  1  0  0  1  0  0  0  0 -8000.0       6\n",
      "2  1   0   1   0  0  0  0  0  0  0  0  0 -4000.0       9\n",
      "['BINARY', 4 rows, 5000 samples, 12 variables]\n",
      "4977/5000 occurrences: ['q1', 'q12', 'q2', 'q5']\n",
      "   8/5000 occurrences: ['q1', 'q11', 'q12', 'q2', 'q5']\n",
      "   6/5000 occurrences: ['q1', 'q11', 'q2', 'q5']\n",
      "   9/5000 occurrences: ['q1', 'q11']\n",
      "{'q1': 1, 'q10': 0, 'q11': 0, 'q12': 1, 'q2': 1, 'q3': 0, 'q4': 0, 'q5': 1, 'q6': 0, 'q7': 0, 'q8': 0, 'q9': 0}\n",
      "{'q1': 1, 'q10': 0, 'q11': 1, 'q12': 1, 'q2': 1, 'q3': 0, 'q4': 0, 'q5': 1, 'q6': 0, 'q7': 0, 'q8': 0, 'q9': 0}\n",
      "{'q1': 1, 'q10': 0, 'q11': 1, 'q12': 0, 'q2': 1, 'q3': 0, 'q4': 0, 'q5': 1, 'q6': 0, 'q7': 0, 'q8': 0, 'q9': 0}\n",
      "{'q1': 1, 'q10': 0, 'q11': 1, 'q12': 0, 'q2': 0, 'q3': 0, 'q4': 0, 'q5': 0, 'q6': 0, 'q7': 0, 'q8': 0, 'q9': 0}\n"
     ]
    }
   ],
   "source": [
    "response = get_dwave_solution_approach_1(dimension=dimension_approach_1_circuit_1, qubits_int=qubits_int_approach_1_circuit_1, \n",
    "                   qubits_dec=qubits_dec_approach_1_circuit_1, QM=QM_approach_1_circuit_1 )"
   ]
  },
  {
   "cell_type": "code",
   "execution_count": 8,
   "id": "fa951c1d-02ce-41e8-a5cf-5b1c099ce622",
   "metadata": {},
   "outputs": [
    {
     "name": "stdout",
     "output_type": "stream",
     "text": [
      "{v1: 1, v2: 0, I_V1: -1}\n"
     ]
    }
   ],
   "source": [
    "data = qubo_formulation.process_dwave_results(list_of_variables=x_matrix, method=qubo_formulation.Method.METHOD_WITHOUT_SIGN, response=response, num_qubits_dict=num_qubits_dict)\n",
    "print(data)"
   ]
  },
  {
   "cell_type": "markdown",
   "id": "007519a5",
   "metadata": {},
   "source": [
    "[Back to the top](#top)\n",
    "\n",
    "***\n",
    "<a id=\"postprocess_dwave_circuit_1_approach_1\"></a>\n",
    "\n",
    "###  3.3 D-Wave´s result postprocessing - Approach 1, Circuit 1\n",
    "\n",
    "From the Q Matrix, the qubo model can be implemented and solved by Dwave tools\n",
    "\n",
    "* $V_{1}$ = [q1, q2, q3, q4], where [q1, q2] corresponds with the positive value (q2 is the MSB) and [q3, q4] corresponds to the negative value (q4 is the MSB)\n",
    "* $V_{2}$ = [q5, q6, q7, q8], where [q5, q6] corresponds with the positive value (q6 is the MSB) and [q7, q8] corresponds to the negative value. (q8 is the MSB)\n",
    "* $I_{e}$ = [q9, q10, q11, q12], where [q9, q10] corresponds with the positive value (q10 is the MSB) and [q11, q12] corresponds to the negative value. (q12 is the MSB)\n",
    "\n",
    "The results obtained from D-Wave solver show that the most likely solution is [q1,q2,q5,q12] (bits set to 1, while the other are 0).\n",
    "\n",
    "Reconstructing each variable: \n",
    "* $V_{1}$ = [q1, q2, q3, q4] = [1, 1 , 0, 0] = 1*2^0 + 1*2^1 - 0*2^(0) - 0*2^(1) = 3V (as expected , $V_{1}$ = $V_{e}$)\n",
    "* $V_{2}$ = [q5, q6, q7, q8] = [1, 0 , 0, 0] = 1*2^0 + 0*2^1 - 0*2^(0) - 0*2^(1) = 1V (as expected)\n",
    "* $I_{e}$ = [q9, q10, q11, q12] = [0, 0 , 0, 1] = 0*2^0 + 0*2^1 - 0*2^(0) - 1*2^(1) = -2A (as expected)"
   ]
  },
  {
   "cell_type": "markdown",
   "id": "caad2f41",
   "metadata": {},
   "source": [
    "[Back to the top](#top)\n",
    "\n",
    "***\n",
    "<a id=\"dwave_solver_approach_2_circuit_1\"></a>\n",
    "\n",
    "### 3.4 Approach 1, circuit 2 - DWave Solver (Simulator)\n"
   ]
  },
  {
   "cell_type": "code",
   "execution_count": null,
   "id": "dafd1408",
   "metadata": {},
   "outputs": [],
   "source": [
    "response = get_dwave_solution_approach_1(dimension=dimension_approach_1_circuit_2, qubits_int=qubits_int_approach_1_circuit_2, \n",
    "                   qubits_dec=qubits_dec_approach_1_circuit_2, QM=QM_approach_1_circuit_2 )"
   ]
  },
  {
   "cell_type": "code",
   "execution_count": null,
   "id": "7283fdba-d965-4532-89c7-e669000bd947",
   "metadata": {},
   "outputs": [],
   "source": [
    "response"
   ]
  },
  {
   "cell_type": "markdown",
   "id": "af2fa082",
   "metadata": {},
   "source": [
    "[Back to the top](#top)\n",
    "\n",
    "***\n",
    "<a id=\"postprocess_dwave_example_1_approach_1\"></a>\n",
    "\n",
    "### 3.5 D-Wave´s result postprocessing - Approach 1, Circuit 2\n",
    "\n",
    "From the Q Matrix, the qubo model can be implemented and solved by Dwave tools\n",
    "\n",
    "* $V_{1}$ = [q1, q2, q3, q4, q5, q6, q7, q8], where [q1, q2] corresponds with the positive and fractional, [q3, q4] corresponds with the positive and integer,  [q5, q6] corresponds to the negative and fractional value and [q7, q8] corresponds to the negative and integer value\n",
    "* $V_{2}$ = [q9, q10, q11, q12, q13, q14, q15, q16], where [q9, q10] corresponds with the positive and fractional, [q11, q12] corresponds with the positive and integer,  [q13, q14] corresponds to the negative and fractional value and [q15, q16] corresponds to the negative and integer value\n",
    "* $I_{e}$ = [q17, q18, q19, q20, q21, q22, q23, q24], where [q17, q18] corresponds with the positive and fractional, [q19, q20] corresponds with the positive and integer,  [q21, q22] corresponds to the negative and fractional value and [q23, q24] corresponds to the negative and integer value\n",
    "\n",
    "The results obtained from D-Wave solver show that the most likely solution is ['q10', 'q2', 'q23', 'q3'] (bits set to 1, while the other are 0).\n",
    "\n",
    "Reconstructing each variable: \n",
    "* $V_{1}$ = [q1, q2, q3, q4, q5, q6, q7, q8] = [0, 1 , 1, 0, 0, 0, 0, 0] = 0 * 1/4 + 1 * 1/2 + 1 * 2^0 + 0... = 1.5V (as expected , $V_{1}$ = $V_{e}$)\n",
    "* $V_{2}$ = [q9, q10, q11, q12, q13, q14, q15, q16] = [0,1,0, 0, 0, 0, 0, 0] 0 * 1/4 + 1 * 1/2 + 0 * 2^0 + 0... = 0.5V (as expected)\n",
    "* $I_{e}$ = [q17, q18, q19, q20, q21, q22, q23, q24] = [0,0,0, 0, 0, 0, 1, 0] = 0 ... - 1 * 2^0 =  -1A (as expected)"
   ]
  },
  {
   "cell_type": "markdown",
   "id": "c0e7744b",
   "metadata": {},
   "source": [
    "[Back to the top](#top)\n",
    "\n",
    "***\n",
    "<a id=\"dwave_solver_approach_2_circuit_1\"></a>\n",
    "\n",
    "### 3.6 Approach 2, circuit 1 - DWave Solver (Simulator)\n"
   ]
  },
  {
   "cell_type": "code",
   "execution_count": null,
   "id": "7f632af5",
   "metadata": {},
   "outputs": [],
   "source": [
    "response = get_dwave_solution_approach_2(dimension=dimension_approach_2_circuit_1, qubits_int=qubits_int_approach_2_circuit_1, \n",
    "                   qubits_dec=qubits_dec_approach_2_circuit_1, QM=QM_approach_2_circuit_1 )"
   ]
  },
  {
   "cell_type": "code",
   "execution_count": null,
   "id": "6d6377d0-3d13-4f4f-b565-ddedf403dea8",
   "metadata": {},
   "outputs": [],
   "source": [
    "response"
   ]
  },
  {
   "cell_type": "markdown",
   "id": "2493497f",
   "metadata": {},
   "source": [
    "[Back to the top](#top)\n",
    "\n",
    "***\n",
    "<a id=\"postprocess_dwave\"></a>\n",
    "\n",
    "### 3.7 D-Wave´s result postprocessing - Approach 2, circuit 1\n",
    "\n",
    "From the Q Matrix, the qubo model can be implemented and solved by Dwave tools\n",
    "\n",
    "* $V_{1}$ = [q1, q2, q3], where [q1] corresponds with the sign and [q2,q3] corresponds to the positive value (q3 is the MSB)\n",
    "* $V_{2}$ = [q4, q5, q6], where [q4] corresponds with the sign and [q5,q6] corresponds to the positive value (q6 is the MSB)\n",
    "* $I_{e}$ = [q7, q8, q9], where [q7] corresponds with the sign and [q8,q9] corresponds to the positive value (q9 is the MSB)\n",
    "\n",
    "The results obtained from D-Wave solver show that the most likely solution is [q2,q3,q5,q7,q9] (bits set to 1, while the other are 0).\n",
    "\n",
    "Reconstructing each variable: \n",
    "* $V_{1}$ = [q2, q3] = 0 + 1 + 2 = 3V (as expected , $V_{1}$ = $V_{e}$)\n",
    "* $V_{2}$ = [q5] = 0 + 1 + 0 = 1V (as expected)\n",
    "* $I_{e}$ = [q7, q9] = -4 + 0 + 2 = -2A (as expected)\n"
   ]
  },
  {
   "cell_type": "markdown",
   "id": "3798bf8a",
   "metadata": {},
   "source": [
    "[Back to the top](#top)\n",
    "\n",
    "***\n",
    "<a id=\"dwave_solver_approach_2_circuit_1\"></a>\n",
    "\n",
    "### 3.8 Approach 2, circuit 2 - DWave Solver (Simulator)\n"
   ]
  },
  {
   "cell_type": "code",
   "execution_count": null,
   "id": "d72a7a0d",
   "metadata": {
    "scrolled": true
   },
   "outputs": [],
   "source": [
    "response = get_dwave_solution_approach_2(dimension=dimension_approach_2_circuit_2, qubits_int=qubits_int_approach_2_circuit_2, \n",
    "                   qubits_dec=qubits_dec_approach_2_circuit_2, QM=QM_approach_2_circuit_2 )"
   ]
  },
  {
   "cell_type": "code",
   "execution_count": null,
   "id": "9b037cdd-f707-4fa3-9a7e-bbd001a64835",
   "metadata": {},
   "outputs": [],
   "source": [
    "response"
   ]
  },
  {
   "cell_type": "markdown",
   "id": "d5a3401f",
   "metadata": {},
   "source": [
    "[Back to the top](#top)\n",
    "\n",
    "***\n",
    "<a id=\"postprocess_dwave\"></a>\n",
    "\n",
    "### 3.9 D-Wave´s result postprocessing - Approach 2, Circuit 2\n",
    "\n",
    "From the Q Matrix, the qubo model can be implemented and solved by Dwave tools\n",
    "\n",
    "* $V_{1}$ = [q1, q2, q3, q4, q5], where [q1] corresponds with the sign and [q2,q3] corresponds to the positive (fractional) value (q3 is the MSB) and [q4,q5] corresponds to the positive (integer) value\n",
    "* $V_{2}$ = [q6, q7, q8, q9, q10], where [q6] corresponds with the sign and [q7,q8] corresponds to the positive (fractional) value (q3 is the MSB) and [q9,q10] corresponds to the positive (integer) value\n",
    "* $I_{e}$ = [q11, q12, q13, q14, q15], where [q11] corresponds with the sign and [q12,q13] corresponds to the positive (fractional) value (q3 is the MSB) and [q14,q15] corresponds to the positive (integer) value\n",
    "\n",
    "The results obtained from D-Wave solver show that the most likely solution is [q3, q4, q8, q11, q14, q15] (bits set to 1, while the other are 0).\n",
    "\n",
    "Reconstructing each variable: \n",
    "* $V_{1}$ = [q3, q4] = 0 + 1/4*0 + 1/2 * 1 + 2^0 * 1 + 2^1 * 0 = 1/2 + 1 = 1.5V (as expected , $V_{1}$ = $V_{e}$)\n",
    "* $V_{2}$ = [q8] = 0 + 1/4*0 + 1/2 * 1 + 2^0 * 0 + 2^1 * 0 = 0.5V (as expected)\n",
    "* $I_{e}$ = [q11, q14, q15] = -4*1 + 1/4*0 + 1/2 * 0 + 2^0 * 1 + 2^1 * 1 = -4 + 1 + 2 = -1A (as expected)\n",
    "\n",
    "\n",
    "There are other results with less occurrences, but they are close to the expected results, for example :\n",
    "['q11', 'q12', 'q13', 'q15', 'q5', 'q7', 'q8']\n",
    "Reconstructing each variable: \n",
    "* $V_{1}$ = [q5] = 0 + 1/4*0 + 1/2 * 0 + 2^0 * 0 + 2^1 * 1 = 2 = 2.0V (0.5V error)\n",
    "* $V_{2}$ = [q7, q8] = 0 + 1/4*1 + 1/2 * 1 + 2^0 * 0 + 2^1 * 0 = 0.75V (0.25V error)\n",
    "* $I_{e}$ = [q11, q12, q13, q15] = -4*1 + 1/4*1 + 1/2 * 1 + 2^0 * 0 + 2^1 * 1 = -4 + 0.75 + 2 = -1.25A (0.25A error)\n",
    "\n"
   ]
  },
  {
   "cell_type": "markdown",
   "id": "b7baaa35",
   "metadata": {},
   "source": [
    "[Back to the top](#top)"
   ]
  }
 ],
 "metadata": {
  "kernelspec": {
   "display_name": "Python 3 (ipykernel)",
   "language": "python",
   "name": "python3"
  },
  "language_info": {
   "codemirror_mode": {
    "name": "ipython",
    "version": 3
   },
   "file_extension": ".py",
   "mimetype": "text/x-python",
   "name": "python",
   "nbconvert_exporter": "python",
   "pygments_lexer": "ipython3",
   "version": "3.11.5"
  }
 },
 "nbformat": 4,
 "nbformat_minor": 5
}
