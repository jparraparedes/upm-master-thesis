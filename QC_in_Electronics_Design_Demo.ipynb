{
 "cells": [
  {
   "cell_type": "markdown",
   "id": "0ed4a8b7-37ce-4d7d-89ba-a5f5599b51a7",
   "metadata": {},
   "source": [
    "# Master's Thesis - Quantum Computing in Electronics Design - Demo"
   ]
  },
  {
   "cell_type": "markdown",
   "id": "64af48fe-979c-44f3-8e95-8d36099a6315",
   "metadata": {},
   "source": [
    "This is a demo for presenting the Master's Thesis \"Quantum Computing in Electronics Design\".\n",
    "\n",
    "Universidad Politécnica de Madrid. Master in Quantum Computing Technologies (2023/2024)\n",
    "\n",
    "Author: Javier Parra Paredes\n",
    "\n",
    "Director: Rafael Martín-Cuevas Redondo"
   ]
  },
  {
   "cell_type": "markdown",
   "id": "0fcd7535-8cd4-437a-8955-d723cbcd55cb",
   "metadata": {},
   "source": [
    "## 1. Import Libraries and D-Wave Token"
   ]
  },
  {
   "cell_type": "markdown",
   "id": "6c0227fe-615a-4224-b39f-47d7448c48c8",
   "metadata": {},
   "source": [
    "Python version used: 3.10.13\n",
    "\n",
    "requirements.txt file attached. For full information (pip freeze), see requirements_all.txt\n",
    "\n",
    "D-Wave Token information shall be saved in a file called \"dwave_token.txt\" at the same level of this Jupyter notebook"
   ]
  },
  {
   "cell_type": "code",
   "execution_count": 1,
   "id": "28c0e308-b9e0-4d3b-b3d6-a89403f7e003",
   "metadata": {},
   "outputs": [],
   "source": [
    "from qubo_formulation import qubo_formulation\n",
    "from modified_nodal_analysis.mna_matrix_generator import MnaMatrixGenerator\n",
    "from helpers.constants import LinearCircuitSolver, AnnealerSolution\n",
    "from helpers.linear_solver import get_solution, get_results, get_expected_results_from_file, get_error_lsb_wrt_expected_results\n",
    "from fujitsu_tools.fujitsu_tools import TemperatureMode, AutoTuningMode, GraphicsDetailMode\n",
    "from helpers import demo_notebook_widgets\n",
    "from dadk.QUBOSolverCPU import *\n",
    "import time\n",
    "import ipywidgets as widgets\n",
    "import os"
   ]
  },
  {
   "cell_type": "markdown",
   "id": "dfa595d9-e422-42e2-86aa-e678e4f7c96c",
   "metadata": {},
   "source": [
    "## 2. Selection of Electronic Circuit under test"
   ]
  },
  {
   "cell_type": "markdown",
   "id": "3bd98a91-1d6f-4166-a116-63b18fa7229f",
   "metadata": {},
   "source": [
    "### 2.1 Selection of Test Circuit"
   ]
  },
  {
   "cell_type": "markdown",
   "id": "af30a90b-95b4-4d73-97c0-a26a8c690a60",
   "metadata": {},
   "source": [
    "Select the electronic circuit to be tested: TEST_CIRCUIT_1, TEST_CIRCUIT_2, TEST_CIRCUIT_3, TEST_CIRCUIT_4 "
   ]
  },
  {
   "cell_type": "code",
   "execution_count": 2,
   "id": "85e6714c-7905-4dc6-b5fe-5b5d1fec6b9f",
   "metadata": {},
   "outputs": [
    {
     "name": "stdout",
     "output_type": "stream",
     "text": [
      "########################### Selection of Test Circuit ###########################\n"
     ]
    },
    {
     "data": {
      "application/vnd.jupyter.widget-view+json": {
       "model_id": "618185dbc16a41e2b41d3ef60d598c04",
       "version_major": 2,
       "version_minor": 0
      },
      "text/plain": [
       "RadioButtons(description='Electronic circuit under test:', options=('TEST_CIRCUIT_1', 'TEST_CIRCUIT_2', 'TEST_…"
      ]
     },
     "metadata": {},
     "output_type": "display_data"
    }
   ],
   "source": [
    "test_circuit_widget = demo_notebook_widgets.TestCircuitWidget()"
   ]
  },
  {
   "cell_type": "markdown",
   "id": "e0262603-d7e3-42e2-a7e0-36570b238a3f",
   "metadata": {},
   "source": [
    "### 2.2 Test Circuit Schematic  (in LTSpice)"
   ]
  },
  {
   "cell_type": "code",
   "execution_count": 3,
   "id": "848811d3-b553-4a48-848d-124172a4e985",
   "metadata": {},
   "outputs": [
    {
     "name": "stdout",
     "output_type": "stream",
     "text": [
      "This is the schematic of the electronic circuit under test: TEST_CIRCUIT_1\n"
     ]
    },
    {
     "data": {
      "application/vnd.jupyter.widget-view+json": {
       "model_id": "322dec8f14b3468da9e73594f2bb8e97",
       "version_major": 2,
       "version_minor": 0
      },
      "text/plain": [
       "Image(value=b'\\x89PNG\\r\\n\\x1a\\n\\x00\\x00\\x00\\rIHDR\\x00\\x00\\x03\\x9a\\x00\\x00\\x02F\\x08\\x06\\x00\\x00\\x00:~\\xfak\\x00\\…"
      ]
     },
     "metadata": {},
     "output_type": "display_data"
    }
   ],
   "source": [
    "test_circuit_path = LinearCircuitSolver.TestCircuits.get_test_circuit_path(test_circuit_widget.test_circuit_widget.value)\n",
    "test_circuit_widget.show_circuit(test_circuit_path=test_circuit_path)"
   ]
  },
  {
   "cell_type": "markdown",
   "id": "7ce4ab6e-d42a-4aef-958c-bd128b197a21",
   "metadata": {},
   "source": [
    "### 2.3 Netlist in SPICE format  (obtained by LTSpice)"
   ]
  },
  {
   "cell_type": "code",
   "execution_count": 4,
   "id": "760fdb1c-64b2-41f1-b44f-557f93c25ff3",
   "metadata": {},
   "outputs": [
    {
     "name": "stdout",
     "output_type": "stream",
     "text": [
      "This is the netlist information in SPICE format of the electronic circuit under test: TEST_CIRCUIT_1\n"
     ]
    },
    {
     "data": {
      "application/vnd.jupyter.widget-view+json": {
       "model_id": "c12efda4314c48499099f8dce551b4f2",
       "version_major": 2,
       "version_minor": 0
      },
      "text/plain": [
       "Image(value=b'\\x89PNG\\r\\n\\x1a\\n\\x00\\x00\\x00\\rIHDR\\x00\\x00\\x00t\\x00\\x00\\x00\\x95\\x08\\x06\\x00\\x00\\x00\\x89\\x82\\xde…"
      ]
     },
     "metadata": {},
     "output_type": "display_data"
    }
   ],
   "source": [
    "test_circuit_widget.show_netlist(test_circuit_path=test_circuit_path)"
   ]
  },
  {
   "cell_type": "markdown",
   "id": "4cbd8531-1067-40ce-8567-ddade0315fe0",
   "metadata": {},
   "source": [
    "### 2.4 Theoretical Results (obtained by LTSpice)"
   ]
  },
  {
   "cell_type": "markdown",
   "id": "1012775a-4724-44e6-84f3-8f0d20f0ded7",
   "metadata": {},
   "source": [
    "The theoretical solutions provided by LTSpice. The variables to be solved below are marked in blue (these are the variables obtained with Modified Nodal Analysis below). The rest of variables could be solved directly from the information obtained of the solution."
   ]
  },
  {
   "cell_type": "code",
   "execution_count": 5,
   "id": "99f527e2-c222-49bd-89fa-d425d51b6389",
   "metadata": {},
   "outputs": [
    {
     "name": "stdout",
     "output_type": "stream",
     "text": [
      "These are the theoretical solutions obtained by LTSpice of the electronic circuit under test: TEST_CIRCUIT_1\n"
     ]
    },
    {
     "data": {
      "application/vnd.jupyter.widget-view+json": {
       "model_id": "0067b150560f4ee3bf430d1549d47c27",
       "version_major": 2,
       "version_minor": 0
      },
      "text/plain": [
       "Image(value=b'\\x89PNG\\r\\n\\x1a\\n\\x00\\x00\\x00\\rIHDR\\x00\\x00\\x01f\\x00\\x00\\x00v\\x08\\x06\\x00\\x00\\x00\\xfb\\x8799\\x00\\…"
      ]
     },
     "metadata": {},
     "output_type": "display_data"
    }
   ],
   "source": [
    "test_circuit_widget.show_solutions(test_circuit_path=test_circuit_path)"
   ]
  },
  {
   "cell_type": "markdown",
   "id": "33a61d66-c908-4f59-a24c-e61ef58e1170",
   "metadata": {},
   "source": [
    "## 3. Modified Nodal Analysis"
   ]
  },
  {
   "cell_type": "markdown",
   "id": "38211010-50fb-4831-b227-8de910314d95",
   "metadata": {},
   "source": [
    "Modified Noda Analysis, based on https://github.com/Tiburonboy/Symbolic-modified-nodal-analysis converts the electronic circuit from SPICE to a matrix form:"
   ]
  },
  {
   "attachments": {
    "51eb834d-fca9-4502-8359-c59752014c62.png": {
     "image/png": "[encoded data removed]"
    }
   },
   "cell_type": "markdown",
   "id": "c5f09a18-add8-4a3c-8949-5ab8e5c7ad18",
   "metadata": {},
   "source": [
    "![image.png](attachment:51eb834d-fca9-4502-8359-c59752014c62.png)"
   ]
  },
  {
   "cell_type": "code",
   "execution_count": 6,
   "id": "f2bfbdb1-7a1e-40f2-9362-3eb1b605b446",
   "metadata": {
    "scrolled": true
   },
   "outputs": [
    {
     "name": "stdout",
     "output_type": "stream",
     "text": [
      "b vector (constants):\n",
      "[0, 0, V1]\n",
      "\n",
      "\n",
      "x vector (variables):\n",
      "[V1, V2, I_V1]\n",
      "\n",
      "\n",
      "A matrix:\n",
      "Matrix([[1/R1, -1/R1, 1], [-1/R1, 1/R2 + 1/R1, 0], [1, 0, 0]])\n",
      "\n",
      "\n",
      "Known data (components info such as resistors, voltage, current source values, etc:\n",
      "{V1: 3.0, R1: 1.0, R2: 0.5}\n",
      "\n",
      "\n",
      "Expected results obtained by LTSpice:\n",
      "{V1: 3.0, V2: 1.0, I_V1: -2.0}\n"
     ]
    }
   ],
   "source": [
    "\"\"\"\n",
    "######################## Modified Nodal Analysis ######################################################################\n",
    "\"\"\"\n",
    "time_start_global = time.time()\n",
    "mna_matrix_gen = MnaMatrixGenerator()\n",
    "b_matrix, x_matrix, a_matrix, df, symbol_value_dict = mna_matrix_gen.get_a_b_x_matrix(netlist_filename=test_circuit_path)\n",
    "\n",
    "print(\"b vector (constants):\")\n",
    "print(b_matrix)\n",
    "print(\"\\n\")\n",
    "print(\"x vector (variables):\")\n",
    "print(x_matrix)\n",
    "print(\"\\n\")\n",
    "print(\"A matrix:\")\n",
    "print(a_matrix)\n",
    "print(\"\\n\")\n",
    "print(\"Known data (components info such as resistors, voltage, current source values, etc:\")\n",
    "print(symbol_value_dict)\n",
    "print(\"\\n\")\n",
    "\n",
    "# Get expected results from file\n",
    "test_circuit_solution_file = LinearCircuitSolver.TestCircuits.get_test_circuit_solution_file(test_circuit_widget.test_circuit_widget.value)\n",
    "expected_results_dict = get_expected_results_from_file(os.path.join(os.path.dirname(test_circuit_path), test_circuit_solution_file))\n",
    "print(\"Expected results obtained by LTSpice:\")\n",
    "print(expected_results_dict)"
   ]
  },
  {
   "cell_type": "markdown",
   "id": "d522a7ab-e461-49b3-8e3e-22a0dbe8913f",
   "metadata": {},
   "source": [
    "## 4. QUBO Formulation"
   ]
  },
  {
   "cell_type": "markdown",
   "id": "442ee46e-1c71-418c-9749-a98329b34d3f",
   "metadata": {},
   "source": [
    "### 4.1 Selection of Method"
   ]
  },
  {
   "cell_type": "markdown",
   "id": "c659b322-bd04-4db5-9e13-bc4dbab283bb",
   "metadata": {},
   "source": [
    "Select the method to be used:\n",
    "- Method 1 or METHOD_WITHOUT_SIGN: Same number of qubits for positive and negative values\n",
    "- Method 2 or METHOD_WITH_SIGN: one qubit dedicated to the sign and the rest of qubits for absolute value"
   ]
  },
  {
   "cell_type": "code",
   "execution_count": 7,
   "id": "09d0646a-a145-4709-9a77-c651efe95034",
   "metadata": {},
   "outputs": [
    {
     "data": {
      "application/vnd.jupyter.widget-view+json": {
       "model_id": "5f65220d8cce4109b5c4283c94744c9d",
       "version_major": 2,
       "version_minor": 0
      },
      "text/plain": [
       "RadioButtons(description='Method:', options=('METHOD_WITHOUT_SIGN', 'METHOD_WITH_SIGN'), style=DescriptionStyl…"
      ]
     },
     "metadata": {},
     "output_type": "display_data"
    }
   ],
   "source": [
    "method_widget = demo_notebook_widgets.MethodWidget()"
   ]
  },
  {
   "cell_type": "markdown",
   "id": "b4e5ac1a-207d-42f0-9662-b10b76982649",
   "metadata": {},
   "source": [
    "### 4.2 Number of qubits for integer and fractional parts selection"
   ]
  },
  {
   "cell_type": "markdown",
   "id": "8469303a-18e0-4b63-ac36-25adacb30353",
   "metadata": {},
   "source": [
    "For each variable, the number of qubits for the integer and fractional parts shall be selected. (Range for each part: 0...10 qubits)"
   ]
  },
  {
   "cell_type": "code",
   "execution_count": 8,
   "id": "3f68bfd2-3bae-46c5-8702-fe81a458d593",
   "metadata": {},
   "outputs": [
    {
     "data": {
      "application/vnd.jupyter.widget-view+json": {
       "model_id": "e6723f28b2104f58b76b5a678c78bde6",
       "version_major": 2,
       "version_minor": 0
      },
      "text/plain": [
       "IntSlider(value=2, continuous_update=False, description='Number of qubits for Integer part:', layout=Layout(wi…"
      ]
     },
     "metadata": {},
     "output_type": "display_data"
    },
    {
     "data": {
      "application/vnd.jupyter.widget-view+json": {
       "model_id": "dcd8d9aa7e924cc7b03592b23fb255eb",
       "version_major": 2,
       "version_minor": 0
      },
      "text/plain": [
       "IntSlider(value=2, continuous_update=False, description='Number of qubits for Fractional part:', layout=Layout…"
      ]
     },
     "metadata": {},
     "output_type": "display_data"
    }
   ],
   "source": [
    "numer_of_qubits_widgets = demo_notebook_widgets.NumberOfQubits()"
   ]
  },
  {
   "cell_type": "code",
   "execution_count": 21,
   "id": "703723c3-9636-4bca-9f5f-058a0c2eb09c",
   "metadata": {},
   "outputs": [],
   "source": [
    "method = method_widget.method_widget.value\n",
    "number_of_integer_qubits = numer_of_qubits_widgets.number_of_integer_qubits_widget.value\n",
    "number_of_fractional_qubits = numer_of_qubits_widgets.number_of_fractional_qubits_widget.value"
   ]
  },
  {
   "cell_type": "code",
   "execution_count": 22,
   "id": "b41fe9ae-71f2-43f1-8284-24d9ec229dd7",
   "metadata": {},
   "outputs": [],
   "source": [
    "# Establish the number of integer and fractional qubits per each variable\n",
    "num_qubits_dict = {}\n",
    "for i in range(0, len(x_matrix)):\n",
    "    dict_aux = {\"INTEGER\": number_of_integer_qubits, \"FRACTIONAL\": number_of_fractional_qubits}\n",
    "    num_qubits_dict[x_matrix[i]] = dict_aux\n",
    "\n",
    "A_matrix = np.asarray(a_matrix.subs(symbol_value_dict))\n",
    "b_matrix = [expr.subs(symbol_value_dict) for expr in b_matrix]"
   ]
  },
  {
   "cell_type": "code",
   "execution_count": 23,
   "id": "9cd5d59d-58f0-46a8-87ce-fa47818b458a",
   "metadata": {},
   "outputs": [
    {
     "name": "stdout",
     "output_type": "stream",
     "text": [
      "# Matrix Q is\n",
      "[[ -3.  12.   0.   0.  -8. -16.   8.  16.   2.   4.  -2.  -4.]\n",
      " [  0.   0.   0.   0. -16. -32.  16.  32.   4.   8.  -4.  -8.]\n",
      " [  0.   0.   9.  12.   8.  16.  -8. -16.  -2.  -4.   2.   4.]\n",
      " [  0.   0.   0.  24.  16.  32. -16. -32.  -4.  -8.   4.   8.]\n",
      " [  0.   0.   0.   0.  10.  40.   0.   0.  -2.  -4.   2.   4.]\n",
      " [  0.   0.   0.   0.   0.  40.   0.   0.  -4.  -8.   4.   8.]\n",
      " [  0.   0.   0.   0.   0.   0.  10.  40.   2.   4.  -2.  -4.]\n",
      " [  0.   0.   0.   0.   0.   0.   0.  40.   4.   8.  -4.  -8.]\n",
      " [  0.   0.   0.   0.   0.   0.   0.   0.   1.   4.   0.   0.]\n",
      " [  0.   0.   0.   0.   0.   0.   0.   0.   0.   4.   0.   0.]\n",
      " [  0.   0.   0.   0.   0.   0.   0.   0.   0.   0.   1.   4.]\n",
      " [  0.   0.   0.   0.   0.   0.   0.   0.   0.   0.   0.   4.]]\n"
     ]
    }
   ],
   "source": [
    "qubit_list_per_variable_dict, number_qubits_used = \\\n",
    "    qubo_formulation.get_qubits_per_variable(list_of_variables=x_matrix, method=method, num_qubits_dict=num_qubits_dict)\n",
    "\n",
    "# QUBO Matrix is generated\n",
    "qubo_matrix = qubo_formulation.get_qubo_matrix(method=method, list_of_variables=x_matrix,\n",
    "                                               num_qubits_dict=num_qubits_dict,\n",
    "                                               A_matrix=A_matrix, b_matrix=b_matrix)"
   ]
  },
  {
   "cell_type": "markdown",
   "id": "2f6750ad-39ae-419a-891a-539100dd1fc3",
   "metadata": {},
   "source": [
    "## 5. Annealer Solver"
   ]
  },
  {
   "cell_type": "markdown",
   "id": "39cea234-1a47-426a-8d4c-aff40554d451",
   "metadata": {},
   "source": [
    "### 5.1 Selection of Annealer solver"
   ]
  },
  {
   "cell_type": "markdown",
   "id": "547f4ec9-60cb-44d1-b46c-e8a3feb5d613",
   "metadata": {},
   "source": [
    "Select the annealer solver to be used:\n",
    "\n",
    "- D-Wave Simulator (DWAVE_SIM)\n",
    "- D-Wave Hybrid Solver (DWAVE_HYBRID_SOLVER)\n",
    "- D-Wave QPU (DWAVE_QPU)\n",
    "- Fujitsu Digital Annealer (Simulator) (FUJITSU_SIM)"
   ]
  },
  {
   "cell_type": "code",
   "execution_count": 12,
   "id": "bd29f74c-d28f-4127-9230-9ad77090c141",
   "metadata": {},
   "outputs": [
    {
     "data": {
      "application/vnd.jupyter.widget-view+json": {
       "model_id": "a6e88ebb8acf4849841d15913165dc1b",
       "version_major": 2,
       "version_minor": 0
      },
      "text/plain": [
       "RadioButtons(description='Annealer Solver:', options=('DWAVE_SIM', 'DWAVE_HYBRID_SOLVER', 'DWAVE_QPU', 'FUJITS…"
      ]
     },
     "metadata": {},
     "output_type": "display_data"
    }
   ],
   "source": [
    "annealer_solver_widget = demo_notebook_widgets.AnnealerSolver()"
   ]
  },
  {
   "cell_type": "markdown",
   "id": "3bca8368-dc63-407f-abd1-adc95ac47f6b",
   "metadata": {},
   "source": [
    "### 5.2 Configuration of Specific Quantum Annealer / Digital Annealer / Simulator Parameters"
   ]
  },
  {
   "cell_type": "code",
   "execution_count": 24,
   "id": "85cfdc5e-882a-4f43-9879-46f0ef9ed3a6",
   "metadata": {},
   "outputs": [
    {
     "name": "stdout",
     "output_type": "stream",
     "text": [
      "D-Wave QPU Parameters:\n"
     ]
    },
    {
     "data": {
      "application/vnd.jupyter.widget-view+json": {
       "model_id": "125c1cd7553a48f8b59539d9b69a0061",
       "version_major": 2,
       "version_minor": 0
      },
      "text/plain": [
       "IntSlider(value=500, continuous_update=False, description='Number of Reads:', layout=Layout(width='50%'), max=…"
      ]
     },
     "metadata": {},
     "output_type": "display_data"
    },
    {
     "data": {
      "application/vnd.jupyter.widget-view+json": {
       "model_id": "74621eeb907b40fb92ad80301f8fb07c",
       "version_major": 2,
       "version_minor": 0
      },
      "text/plain": [
       "IntSlider(value=10, continuous_update=False, description='Chain Strength:', layout=Layout(width='50%'), max=10…"
      ]
     },
     "metadata": {},
     "output_type": "display_data"
    },
    {
     "data": {
      "application/vnd.jupyter.widget-view+json": {
       "model_id": "47cff4860f974bdf84f055766a5a3c3a",
       "version_major": 2,
       "version_minor": 0
      },
      "text/plain": [
       "IntSlider(value=20, continuous_update=False, description='Annealing Time (us):', layout=Layout(width='50%'), m…"
      ]
     },
     "metadata": {},
     "output_type": "display_data"
    }
   ],
   "source": [
    "annealer_solver_parameters = demo_notebook_widgets.AnnealerSolverParameters(annealer_solver=annealer_solver_widget.annealer_solver_widget.value)"
   ]
  },
  {
   "cell_type": "code",
   "execution_count": 25,
   "id": "e07f12a4-e92d-4ccb-b5e7-625e77fb797c",
   "metadata": {},
   "outputs": [],
   "source": [
    "annealer_solver = annealer_solver_widget.annealer_solver_widget.value\n",
    "\n",
    "if annealer_solver == AnnealerSolution.FUJITSU_SIM:\n",
    "    num_reads = annealer_solver_parameters.number_of_reads_fujitsu_widget.value\n",
    "elif annealer_solver == AnnealerSolution.DWAVE_HYBRID_SOLVER:\n",
    "    num_reads = 1\n",
    "else:\n",
    "    num_reads = annealer_solver_parameters.number_of_reads_dwave_widget.value\n",
    "\n",
    "# FUJITSU Parameters\n",
    "fujitsu_number_iterations = annealer_solver_parameters.number_of_iterations_fujitsu_widget.value\n",
    "fujitsu_temperature_start = annealer_solver_parameters.start_temperature_fujitsu_widget.value\n",
    "fujitsu_temperature_end = annealer_solver_parameters.end_temperature_fujitsu_widget.value\n",
    "fujitsu_temperature_mode = TemperatureMode.get_temperature_mode_int(annealer_solver_parameters.temperature_mode_fujitsu_widget.value)\n",
    "fujitsu_temperature_interval = annealer_solver_parameters.temperature_interval_fujitsu_widget.value\n",
    "\n",
    "fujitsu_offset_increase_rate = annealer_solver_parameters.offset_increase_rate_fujitsu_widget.value\n",
    "fujitsu_scaling_bit_precision = annealer_solver_parameters.number_of_bits_scaling_fujitsu_widget.value\n",
    "fujitsu_auto_tuning = AutoTuningMode.get_auto_tuning_mode_int(annealer_solver_parameters.auto_tuning_mode_fujitsu_widget.value)\n",
    "fujitsu_graphics = GraphicsDetailMode.get_graphics_detail_int(annealer_solver_parameters.graphics_detail_mode_fujitsu_widget.value)\n",
    "\n",
    "# DWAVE Parameters\n",
    "dwave_chain_strength = annealer_solver_parameters.chain_strength_dwave_widget.value\n",
    "dwave_annealing_time_us = annealer_solver_parameters.annealing_time_us_dwave_widget.value"
   ]
  },
  {
   "cell_type": "markdown",
   "id": "6600d665-e598-4d1b-9bfa-991f57b25e2a",
   "metadata": {},
   "source": [
    "### 5.3 Solutions retrieval"
   ]
  },
  {
   "cell_type": "code",
   "execution_count": 26,
   "id": "f846f923-9779-46a9-b7be-8c39ab59d6c8",
   "metadata": {},
   "outputs": [
    {
     "data": {
      "text/html": [
       "<iframe src=http://127.0.0.1:18000/?problemId=2b416b88-2374-4dd8-a230-818b1f515cb1 width=\"100%\" height=640></iframe>"
      ],
      "text/plain": [
       "Serving Inspector on http://127.0.0.1:18000/?problemId=2b416b88-2374-4dd8-a230-818b1f515cb1"
      ]
     },
     "metadata": {},
     "output_type": "display_data"
    },
    {
     "name": "stdout",
     "output_type": "stream",
     "text": [
      "   q1 q10 q11 q12 q2 q3 q4 q5 q6 q7 q8 q9 energy num_oc. chain_b.\n",
      "0   1   0   0   1  1  0  0  1  0  0  0  0   -9.0      73      0.0\n",
      "1   1   0   1   0  1  0  0  1  0  0  0  0   -8.0      23      0.0\n",
      "2   1   0   1   1  1  0  0  1  0  0  0  0   -8.0      35      0.0\n",
      "4   0   0   1   0  1  0  0  1  0  0  0  0   -7.0      27      0.0\n",
      "8   0   0   0   0  1  0  0  1  0  0  0  0   -6.0      13      0.0\n",
      "9   0   0   0   1  1  0  0  1  0  0  0  0   -6.0      23      0.0\n",
      "12  1   0   0   0  1  0  0  1  0  0  0  0   -5.0       6      0.0\n",
      "3   0   0   0   1  1  0  0  0  0  0  0  0   -4.0      36 0.083333\n",
      "14  0   0   1   0  1  0  0  1  0  0  0  1   -4.0       5      0.0\n",
      "15  1   0   0   1  1  0  0  1  0  0  0  1   -4.0      11      0.0\n",
      "16  1   0   1   0  0  0  0  0  0  0  0  0   -4.0       6      0.0\n",
      "6   0   0   1   0  1  0  0  0  0  0  0  0   -3.0      14 0.083333\n",
      "7   0   0   1   1  1  0  0  0  0  0  0  0   -3.0      25 0.083333\n",
      "19  0   0   0   1  1  0  0  1  0  0  0  1   -3.0       8      0.0\n",
      "20  0   0   1   1  1  0  0  1  0  0  0  0   -3.0       5      0.0\n",
      "21  1   0   1   0  1  0  0  1  0  0  0  1   -3.0       4      0.0\n",
      "22  1   0   0   1  0  0  0  0  0  0  0  0   -3.0      11      0.0\n",
      "23  1   0   1   1  1  0  0  1  0  0  0  1   -3.0       7      0.0\n",
      "24  0   0   0   0  1  0  0  1  0  0  0  1   -3.0       2      0.0\n",
      "25  1   0   0   0  0  0  0  0  0  0  0  0   -3.0       7      0.0\n",
      "32  1   0   1   0  0  0  0  0  0  0  0  1   -1.0       2      0.0\n",
      "33  1   0   0   0  0  0  0  1  0  0  0  0   -1.0       2      0.0\n",
      "5   0   0   0   0  0  0  0  0  0  0  0  0    0.0      26 0.083333\n",
      "17  0   0   0   0  1  0  0  0  0  0  0  0    0.0       4 0.083333\n",
      "18  1   0   1   1  1  0  0  0  0  0  0  0    0.0       4 0.083333\n",
      "34  1   0   0   0  1  0  0  1  0  0  0  1    0.0       1      0.0\n",
      "35  1   0   0   0  0  0  0  0  0  0  0  1    0.0       2      0.0\n",
      "36  1   0   1   0  0  0  0  1  0  0  0  0    0.0       2      0.0\n",
      "37  1   0   0   1  0  0  0  0  0  0  0  1    0.0       1      0.0\n",
      "54  1   0   0   0  0  0  0  1  0  0  0  1    0.0       1 0.083333\n",
      "10  0   0   1   0  0  0  0  0  0  0  0  0    1.0      12 0.083333\n",
      "11  0   0   0   0  0  0  0  0  0  0  0  1    1.0      13 0.083333\n",
      "27  0   0   0   1  1  0  0  0  0  0  0  1    1.0       5 0.083333\n",
      "28  1   0   0   1  1  0  0  0  0  0  0  0    1.0       6 0.083333\n",
      "38  0   1   1   0  1  0  0  1  0  0  0  0    1.0       2      0.0\n",
      "39  1   0   0   1  1  0  0  0  1  0  0  0    1.0       2      0.0\n",
      "13  0   0   1   0  0  0  0  0  0  0  0  1    2.0      21 0.083333\n",
      "30  0   0   1   0  1  0  0  0  0  0  0  1    2.0       1 0.083333\n",
      "31  0   0   1   1  1  0  0  0  0  0  0  1    2.0       3 0.083333\n",
      "42  0   1   0   1  1  0  0  1  0  0  0  0    2.0       1      0.0\n",
      "44  1   1   0   1  1  0  0  1  0  0  0  0    3.0       1      0.0\n",
      "45  1   1   0   0  0  0  0  1  0  0  0  0    3.0       1      0.0\n",
      "46  1   0   1   0  1  0  0  0  1  0  0  1    3.0       1      0.0\n",
      "26  0   0   0   1  0  0  0  0  0  0  0  0    4.0       1 0.083333\n",
      "47  0   1   0   0  0  0  0  0  0  0  0  0    4.0       2      0.0\n",
      "48  1   1   1   0  1  0  0  1  0  0  0  0    4.0       2      0.0\n",
      "29  0   0   0   1  0  0  0  0  0  0  0  1    5.0       4 0.083333\n",
      "41  0   0   0   0  1  0  0  0  0  0  0  1    5.0       1 0.083333\n",
      "52  0   1   1   0  0  0  0  0  0  0  0  0    5.0       2      0.0\n",
      "53  1   1   0   1  0  0  0  0  0  0  0  0    5.0       1      0.0\n",
      "56  1   0   0   0  0  1  0  0  0  0  0  0    6.0       2      0.0\n",
      "57  1   0   1   0  0  1  0  0  0  0  0  0    7.0       1      0.0\n",
      "40  0   0   0   0  0  1  0  0  0  0  0  1    8.0       4 0.083333\n",
      "50  0   1   0   1  1  0  0  0  0  0  0  0    8.0       2 0.083333\n",
      "51  0   0   1   0  1  1  0  0  0  0  0  0    8.0       1 0.083333\n",
      "58  0   1   1   0  1  0  0  1  0  0  0  1    8.0       1      0.0\n",
      "59  0   1   0   1  0  0  0  0  0  0  0  0    8.0       1      0.0\n",
      "43  0   0   0   0  0  1  0  0  0  0  0  0    9.0       8 0.083333\n",
      "55  0   0   0   1  1  1  0  0  0  0  0  0    9.0       2 0.083333\n",
      "61  0   1   0   0  0  0  0  0  0  0  0  1    9.0       1      0.0\n",
      "62  0   0   0   0  1  1  0  0  0  0  0  0    9.0       1      0.0\n",
      "49  0   0   1   0  0  1  0  0  0  0  0  1   11.0       2 0.083333\n",
      "63  0   0   0   0  0  1  0  0  0  1  0  0   11.0       1 0.083333\n",
      "67  0   0   0   0  0  0  0  0  0  1  0  1   13.0       1 0.166667\n",
      "64  0   0   0   1  0  1  0  0  0  1  0  0   15.0       1 0.083333\n",
      "65  1   0   1   0  0  1  0  0  0  1  0  0   15.0       1      0.0\n",
      "66  0   1   1   0  0  1  0  0  0  0  0  1   15.0       1 0.083333\n",
      "60  0   0   1   1  1  0  0  0  0  1  0  0   17.0       1 0.083333\n",
      "['BINARY', 68 rows, 500 samples, 12 variables]\n",
      "  73/500 occurrences: ['q1', 'q12', 'q2', 'q5'] energy: -9.0\n",
      "  23/500 occurrences: ['q1', 'q11', 'q2', 'q5'] energy: -8.0\n",
      "  35/500 occurrences: ['q1', 'q11', 'q12', 'q2', 'q5'] energy: -8.0\n",
      "  27/500 occurrences: ['q11', 'q2', 'q5'] energy: -7.0\n",
      "  13/500 occurrences: ['q2', 'q5'] energy: -6.0\n",
      "  23/500 occurrences: ['q12', 'q2', 'q5'] energy: -6.0\n",
      "   6/500 occurrences: ['q1', 'q2', 'q5'] energy: -5.0\n",
      "  36/500 occurrences: ['q12', 'q2'] energy: -4.0\n",
      "   6/500 occurrences: ['q1', 'q11'] energy: -4.0\n",
      "  11/500 occurrences: ['q1', 'q12', 'q2', 'q5', 'q9'] energy: -4.0\n",
      "   5/500 occurrences: ['q11', 'q2', 'q5', 'q9'] energy: -4.0\n",
      "   4/500 occurrences: ['q1', 'q11', 'q2', 'q5', 'q9'] energy: -3.0\n",
      "  11/500 occurrences: ['q1', 'q12'] energy: -3.0\n",
      "   7/500 occurrences: ['q1'] energy: -3.0\n",
      "   2/500 occurrences: ['q2', 'q5', 'q9'] energy: -3.0\n",
      "   8/500 occurrences: ['q12', 'q2', 'q5', 'q9'] energy: -3.0\n",
      "  25/500 occurrences: ['q11', 'q12', 'q2'] energy: -3.0\n",
      "  14/500 occurrences: ['q11', 'q2'] energy: -3.0\n",
      "   7/500 occurrences: ['q1', 'q11', 'q12', 'q2', 'q5', 'q9'] energy: -3.0\n",
      "   5/500 occurrences: ['q11', 'q12', 'q2', 'q5'] energy: -3.0\n",
      "   2/500 occurrences: ['q1', 'q11', 'q9'] energy: -1.0\n",
      "   2/500 occurrences: ['q1', 'q5'] energy: -1.0\n",
      "   4/500 occurrences: ['q2'] energy: 0.0\n",
      "   1/500 occurrences: ['q1', 'q5', 'q9'] energy: 0.0\n",
      "   1/500 occurrences: ['q1', 'q12', 'q9'] energy: 0.0\n",
      "   4/500 occurrences: ['q1', 'q11', 'q12', 'q2'] energy: 0.0\n",
      "  26/500 occurrences: [] energy: 0.0\n",
      "   2/500 occurrences: ['q1', 'q11', 'q5'] energy: 0.0\n",
      "   1/500 occurrences: ['q1', 'q2', 'q5', 'q9'] energy: 0.0\n",
      "   2/500 occurrences: ['q1', 'q9'] energy: 0.0\n",
      "   2/500 occurrences: ['q1', 'q12', 'q2', 'q6'] energy: 1.0\n",
      "  13/500 occurrences: ['q9'] energy: 1.0\n",
      "  12/500 occurrences: ['q11'] energy: 1.0\n",
      "   5/500 occurrences: ['q12', 'q2', 'q9'] energy: 1.0\n",
      "   6/500 occurrences: ['q1', 'q12', 'q2'] energy: 1.0\n",
      "   2/500 occurrences: ['q10', 'q11', 'q2', 'q5'] energy: 1.0\n",
      "   3/500 occurrences: ['q11', 'q12', 'q2', 'q9'] energy: 2.0\n",
      "   1/500 occurrences: ['q11', 'q2', 'q9'] energy: 2.0\n",
      "  21/500 occurrences: ['q11', 'q9'] energy: 2.0\n",
      "   1/500 occurrences: ['q10', 'q12', 'q2', 'q5'] energy: 2.0\n",
      "   1/500 occurrences: ['q1', 'q11', 'q2', 'q6', 'q9'] energy: 3.0\n",
      "   1/500 occurrences: ['q1', 'q10', 'q5'] energy: 3.0\n",
      "   1/500 occurrences: ['q1', 'q10', 'q12', 'q2', 'q5'] energy: 3.0\n",
      "   2/500 occurrences: ['q10'] energy: 4.0\n",
      "   2/500 occurrences: ['q1', 'q10', 'q11', 'q2', 'q5'] energy: 4.0\n",
      "   1/500 occurrences: ['q12'] energy: 4.0\n",
      "   4/500 occurrences: ['q12', 'q9'] energy: 5.0\n",
      "   1/500 occurrences: ['q2', 'q9'] energy: 5.0\n",
      "   1/500 occurrences: ['q1', 'q10', 'q12'] energy: 5.0\n",
      "   2/500 occurrences: ['q10', 'q11'] energy: 5.0\n",
      "   2/500 occurrences: ['q1', 'q3'] energy: 6.0\n",
      "   1/500 occurrences: ['q1', 'q11', 'q3'] energy: 7.0\n",
      "   1/500 occurrences: ['q11', 'q2', 'q3'] energy: 8.0\n",
      "   1/500 occurrences: ['q10', 'q12'] energy: 8.0\n",
      "   2/500 occurrences: ['q10', 'q12', 'q2'] energy: 8.0\n",
      "   4/500 occurrences: ['q3', 'q9'] energy: 8.0\n",
      "   1/500 occurrences: ['q10', 'q11', 'q2', 'q5', 'q9'] energy: 8.0\n",
      "   1/500 occurrences: ['q10', 'q9'] energy: 9.0\n",
      "   1/500 occurrences: ['q2', 'q3'] energy: 9.0\n",
      "   8/500 occurrences: ['q3'] energy: 9.0\n",
      "   2/500 occurrences: ['q12', 'q2', 'q3'] energy: 9.0\n",
      "   2/500 occurrences: ['q11', 'q3', 'q9'] energy: 11.0\n",
      "   1/500 occurrences: ['q3', 'q7'] energy: 11.0\n",
      "   1/500 occurrences: ['q7', 'q9'] energy: 13.0\n",
      "   1/500 occurrences: ['q10', 'q11', 'q3', 'q9'] energy: 15.0\n",
      "   1/500 occurrences: ['q12', 'q3', 'q7'] energy: 15.0\n",
      "   1/500 occurrences: ['q1', 'q11', 'q3', 'q7'] energy: 15.0\n",
      "   1/500 occurrences: ['q11', 'q12', 'q2', 'q7'] energy: 17.0\n"
     ]
    }
   ],
   "source": [
    "# QUBO problem is solved by chosen annealer solution\n",
    "time_start_solver = time.time()\n",
    "response = get_solution(annealer_solution=annealer_solver, number_qubits_used=number_qubits_used,\n",
    "                        qubo_matrix=qubo_matrix, num_reads=num_reads,\n",
    "                        dwave_chain_strength=dwave_chain_strength,\n",
    "                        dwave_annealing_time_us=dwave_annealing_time_us,\n",
    "                        fujitsu_number_iterations=fujitsu_number_iterations,\n",
    "                        fujitsu_temperature_start=fujitsu_temperature_start,\n",
    "                        fujitsu_temperature_end=fujitsu_temperature_end,\n",
    "                        fujitsu_temperature_mode=fujitsu_temperature_mode,\n",
    "                        fujitsu_temperature_interval=fujitsu_temperature_interval,\n",
    "                        fujitsu_offset_increase_rate=fujitsu_offset_increase_rate,\n",
    "                        fujitsu_scaling_bit_precision=fujitsu_scaling_bit_precision,\n",
    "                        fujitsu_auto_tuning=fujitsu_auto_tuning,\n",
    "                        fujitsu_graphics=fujitsu_graphics)\n",
    "\n",
    "time_end_solver = time.time()"
   ]
  },
  {
   "cell_type": "markdown",
   "id": "f1a887ee-58d3-4416-9441-b3773311bcdc",
   "metadata": {},
   "source": [
    "## 6. PostProcess obtained solutions"
   ]
  },
  {
   "cell_type": "markdown",
   "id": "7713895f-3169-47f0-84ae-6c82d20b94e6",
   "metadata": {},
   "source": [
    "This section converts the data returned by the annealer solver to the values of the variables"
   ]
  },
  {
   "cell_type": "code",
   "execution_count": 27,
   "id": "7f304fa0-366b-40bc-b16d-a154ff0123bc",
   "metadata": {},
   "outputs": [
    {
     "name": "stdout",
     "output_type": "stream",
     "text": [
      "################# Postprocessed data (raw) ###########################\n",
      "{'result_1': {V1: 3, V2: 1, I_V1: -2, 'occurrences': 73, 'energy': -9.0}, 'result_2': {V1: 3, V2: 1, I_V1: -1, 'occurrences': 23, 'energy': -8.0}, 'result_3': {V1: 3, V2: 1, I_V1: -3, 'occurrences': 35, 'energy': -8.0}, 'result_4': {V1: 2, V2: 1, I_V1: -1, 'occurrences': 27, 'energy': -7.0}, 'result_5': {V1: 2, V2: 1, I_V1: 0, 'occurrences': 13, 'energy': -6.0}, 'result_6': {V1: 2, V2: 1, I_V1: -2, 'occurrences': 23, 'energy': -6.0}, 'result_7': {V1: 3, V2: 1, I_V1: 0, 'occurrences': 6, 'energy': -5.0}, 'result_8': {V1: 2, V2: 0, I_V1: -2, 'occurrences': 36, 'energy': -4.0}, 'result_9': {V1: 1, V2: 0, I_V1: -1, 'occurrences': 6, 'energy': -4.0}, 'result_10': {V1: 3, V2: 1, I_V1: -1, 'occurrences': 11, 'energy': -4.0}, 'result_11': {V1: 2, V2: 1, I_V1: 0, 'occurrences': 5, 'energy': -4.0}, 'result_12': {V1: 3, V2: 1, I_V1: 0, 'occurrences': 4, 'energy': -3.0}, 'result_13': {V1: 1, V2: 0, I_V1: -2, 'occurrences': 11, 'energy': -3.0}, 'result_14': {V1: 1, V2: 0, I_V1: 0, 'occurrences': 7, 'energy': -3.0}, 'result_15': {V1: 2, V2: 1, I_V1: 1, 'occurrences': 2, 'energy': -3.0}, 'result_16': {V1: 2, V2: 1, I_V1: -1, 'occurrences': 8, 'energy': -3.0}, 'result_17': {V1: 2, V2: 0, I_V1: -3, 'occurrences': 25, 'energy': -3.0}, 'result_18': {V1: 2, V2: 0, I_V1: -1, 'occurrences': 14, 'energy': -3.0}, 'result_19': {V1: 3, V2: 1, I_V1: -2, 'occurrences': 7, 'energy': -3.0}, 'result_20': {V1: 2, V2: 1, I_V1: -3, 'occurrences': 5, 'energy': -3.0}, 'result_21': {V1: 1, V2: 0, I_V1: 0, 'occurrences': 2, 'energy': -1.0}, 'result_22': {V1: 1, V2: 1, I_V1: 0, 'occurrences': 2, 'energy': -1.0}, 'result_23': {V1: 2, V2: 0, I_V1: 0, 'occurrences': 4, 'energy': 0.0}, 'result_24': {V1: 1, V2: 1, I_V1: 1, 'occurrences': 1, 'energy': 0.0}, 'result_25': {V1: 1, V2: 0, I_V1: -1, 'occurrences': 1, 'energy': 0.0}, 'result_26': {V1: 3, V2: 0, I_V1: -3, 'occurrences': 4, 'energy': 0.0}, 'result_27': {V1: 0, V2: 0, I_V1: 0, 'occurrences': 26, 'energy': 0.0}, 'result_28': {V1: 1, V2: 1, I_V1: -1, 'occurrences': 2, 'energy': 0.0}, 'result_29': {V1: 3, V2: 1, I_V1: 1, 'occurrences': 1, 'energy': 0.0}, 'result_30': {V1: 1, V2: 0, I_V1: 1, 'occurrences': 2, 'energy': 0.0}, 'result_31': {V1: 3, V2: 2, I_V1: -2, 'occurrences': 2, 'energy': 1.0}, 'result_32': {V1: 0, V2: 0, I_V1: 1, 'occurrences': 13, 'energy': 1.0}, 'result_33': {V1: 0, V2: 0, I_V1: -1, 'occurrences': 12, 'energy': 1.0}, 'result_34': {V1: 2, V2: 0, I_V1: -1, 'occurrences': 5, 'energy': 1.0}, 'result_35': {V1: 3, V2: 0, I_V1: -2, 'occurrences': 6, 'energy': 1.0}, 'result_36': {V1: 2, V2: 1, I_V1: 1, 'occurrences': 2, 'energy': 1.0}, 'result_37': {V1: 2, V2: 0, I_V1: -2, 'occurrences': 3, 'energy': 2.0}, 'result_38': {V1: 2, V2: 0, I_V1: 0, 'occurrences': 1, 'energy': 2.0}, 'result_39': {V1: 0, V2: 0, I_V1: 0, 'occurrences': 21, 'energy': 2.0}, 'result_40': {V1: 2, V2: 1, I_V1: 0, 'occurrences': 1, 'energy': 2.0}, 'result_41': {V1: 3, V2: 2, I_V1: 0, 'occurrences': 1, 'energy': 3.0}, 'result_42': {V1: 1, V2: 1, I_V1: 2, 'occurrences': 1, 'energy': 3.0}, 'result_43': {V1: 3, V2: 1, I_V1: 0, 'occurrences': 1, 'energy': 3.0}, 'result_44': {V1: 0, V2: 0, I_V1: 2, 'occurrences': 2, 'energy': 4.0}, 'result_45': {V1: 3, V2: 1, I_V1: 1, 'occurrences': 2, 'energy': 4.0}, 'result_46': {V1: 0, V2: 0, I_V1: -2, 'occurrences': 1, 'energy': 4.0}, 'result_47': {V1: 0, V2: 0, I_V1: -1, 'occurrences': 4, 'energy': 5.0}, 'result_48': {V1: 2, V2: 0, I_V1: 1, 'occurrences': 1, 'energy': 5.0}, 'result_49': {V1: 1, V2: 0, I_V1: 0, 'occurrences': 1, 'energy': 5.0}, 'result_50': {V1: 0, V2: 0, I_V1: 1, 'occurrences': 2, 'energy': 5.0}, 'result_51': {V1: 0, V2: 0, I_V1: 0, 'occurrences': 2, 'energy': 6.0}, 'result_52': {V1: 0, V2: 0, I_V1: -1, 'occurrences': 1, 'energy': 7.0}, 'result_53': {V1: 1, V2: 0, I_V1: -1, 'occurrences': 1, 'energy': 8.0}, 'result_54': {V1: 0, V2: 0, I_V1: 0, 'occurrences': 1, 'energy': 8.0}, 'result_55': {V1: 2, V2: 0, I_V1: 0, 'occurrences': 2, 'energy': 8.0}, 'result_56': {V1: -1, V2: 0, I_V1: 1, 'occurrences': 4, 'energy': 8.0}, 'result_57': {V1: 2, V2: 1, I_V1: 2, 'occurrences': 1, 'energy': 8.0}, 'result_58': {V1: 0, V2: 0, I_V1: 3, 'occurrences': 1, 'energy': 9.0}, 'result_59': {V1: 1, V2: 0, I_V1: 0, 'occurrences': 1, 'energy': 9.0}, 'result_60': {V1: -1, V2: 0, I_V1: 0, 'occurrences': 8, 'energy': 9.0}, 'result_61': {V1: 1, V2: 0, I_V1: -2, 'occurrences': 2, 'energy': 9.0}, 'result_62': {V1: -1, V2: 0, I_V1: 0, 'occurrences': 2, 'energy': 11.0}, 'result_63': {V1: -1, V2: -1, I_V1: 0, 'occurrences': 1, 'energy': 11.0}, 'result_64': {V1: 0, V2: -1, I_V1: 1, 'occurrences': 1, 'energy': 13.0}, 'result_65': {V1: -1, V2: 0, I_V1: 2, 'occurrences': 1, 'energy': 15.0}, 'result_66': {V1: -1, V2: -1, I_V1: -2, 'occurrences': 1, 'energy': 15.0}, 'result_67': {V1: 0, V2: -1, I_V1: -1, 'occurrences': 1, 'energy': 15.0}, 'result_68': {V1: 2, V2: -1, I_V1: -3, 'occurrences': 1, 'energy': 17.0}}\n"
     ]
    }
   ],
   "source": [
    "# Postprocess results\n",
    "data = get_results(annealer_solution=annealer_solver, x_matrix=x_matrix, method=method, response=response,\n",
    "                   num_qubits_dict=num_qubits_dict)\n",
    "\n",
    "time_end_global = time.time()\n",
    "\n",
    "print(\"################# Postprocessed data (raw) ###########################\")\n",
    "print(data)"
   ]
  },
  {
   "cell_type": "code",
   "execution_count": 28,
   "id": "b50a9fe3-8963-4ecf-b642-bfef5b12d5b4",
   "metadata": {},
   "outputs": [
    {
     "name": "stdout",
     "output_type": "stream",
     "text": [
      "################# Timing Performance ###########################\n",
      "Overall Time: 111.42555904388428\n",
      "Solver processing Time: 9.622940063476562\n"
     ]
    }
   ],
   "source": [
    "print(\"################# Timing Performance ###########################\")\n",
    "print(\"Overall Time: \" + str(time_end_global-time_start_global))\n",
    "print(\"Solver processing Time: \" + str(time_end_solver-time_start_solver))"
   ]
  },
  {
   "cell_type": "code",
   "execution_count": 29,
   "id": "d887c074-79b4-438f-8de5-620b1977cd1a",
   "metadata": {},
   "outputs": [
    {
     "name": "stdout",
     "output_type": "stream",
     "text": [
      "################# Error in % / Difference in LSBs with respect to Theoretical value ###########################\n",
      " - Absolute Error of each variable with respect to theoretical result : {V1: 0.0, V2: 0.0, I_V1: 0.0}\n",
      " - Error of each variable in % with respect to theoretical result : {V1: 0.0, V2: 0.0, I_V1: -0.0}\n",
      " - Difference of LSBs of each variable with respect to theoretical result : {V1: 0, V2: 0, I_V1: 0}\n",
      "################# Plot errors in % and LSBs ###########################\n"
     ]
    },
    {
     "data": {
      "image/png": "[encoded data removed]",
      "text/plain": [
       "<Figure size 640x480 with 1 Axes>"
      ]
     },
     "metadata": {},
     "output_type": "display_data"
    },
    {
     "data": {
      "image/png": "[encoded data removed]",
      "text/plain": [
       "<Figure size 640x480 with 1 Axes>"
      ]
     },
     "metadata": {},
     "output_type": "display_data"
    },
    {
     "data": {
      "image/png": "[encoded data removed]",
      "text/plain": [
       "<Figure size 640x480 with 1 Axes>"
      ]
     },
     "metadata": {},
     "output_type": "display_data"
    }
   ],
   "source": [
    "# Calculate error of each variable with respect to theoretical value\n",
    "print(\"################# Error in % / Difference in LSBs with respect to Theoretical value ###########################\")\n",
    "absolute_error_dict, percentage_error_dict, lsb_dict = get_error_lsb_wrt_expected_results(expected_results_dict=expected_results_dict, data_dict=data[\"result_1\"], num_qubits_dict=num_qubits_dict)\n",
    "print(\" - Absolute Error of each variable with respect to theoretical result : \" + str(absolute_error_dict))\n",
    "print(\" - Error of each variable in % with respect to theoretical result : \" + str(percentage_error_dict))\n",
    "print(\" - Difference of LSBs of each variable with respect to theoretical result : \" + str(lsb_dict))\n",
    "\n",
    "# Plot errors / LSBs\n",
    "print(\"################# Plot errors in % and LSBs ###########################\")\n",
    "qubo_formulation.plot_error(absolute_error_dict, title=\"Absolute Error\")\n",
    "qubo_formulation.plot_error(percentage_error_dict, title=\"Percentage Error\")\n",
    "qubo_formulation.plot_error(lsb_dict, title=\"Difference in LSBs\")"
   ]
  },
  {
   "cell_type": "code",
   "execution_count": 30,
   "id": "9ec9e681-43f8-4089-867f-3279599b862c",
   "metadata": {},
   "outputs": [
    {
     "name": "stdout",
     "output_type": "stream",
     "text": [
      "Number of occurrences of the best solution (minimum energy) : 73\n",
      "Number of reads : 500\n",
      "Percentage of occurrences of the best solution (minimum energy): 14.6%\n"
     ]
    }
   ],
   "source": [
    "# Calculate number of occurrences of best result (minimum energy) with respect to total number of reads\n",
    "num_occurrences = data['result_1']['occurrences']\n",
    "ocurrences_percentage = 100*num_occurrences/num_reads\n",
    "print(\"Number of occurrences of the best solution (minimum energy) : \" + str(num_occurrences))\n",
    "print(\"Number of reads : \" + str(num_reads))\n",
    "print(\"Percentage of occurrences of the best solution (minimum energy): \" + str(ocurrences_percentage) + \"%\")"
   ]
  },
  {
   "cell_type": "code",
   "execution_count": 31,
   "id": "93078f75-b618-4cbd-a089-d59e7f62872c",
   "metadata": {},
   "outputs": [],
   "source": [
    "if annealer_solver == AnnealerSolution.FUJITSU_SIM:\n",
    "    response.display_graphs()"
   ]
  }
 ],
 "metadata": {
  "kernelspec": {
   "display_name": "Python 3 (ipykernel)",
   "language": "python",
   "name": "python3"
  },
  "language_info": {
   "codemirror_mode": {
    "name": "ipython",
    "version": 3
   },
   "file_extension": ".py",
   "mimetype": "text/x-python",
   "name": "python",
   "nbconvert_exporter": "python",
   "pygments_lexer": "ipython3",
   "version": "3.10.13"
  }
 },
 "nbformat": 4,
 "nbformat_minor": 5
}
